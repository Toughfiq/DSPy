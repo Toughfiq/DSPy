{
 "cells": [
  {
   "cell_type": "markdown",
   "id": "f700a763",
   "metadata": {},
   "source": [
    "**Gender Behaviour Analysis**"
   ]
  },
  {
   "cell_type": "markdown",
   "id": "5e238a8e",
   "metadata": {},
   "source": [
    "# Analisis Perilaku Pengguna: Gender, Swipe Right Ratio, dan Likes\n",
    "\n",
    "Notebook ini merangkum hasil analisis eksplorasi data terkait perilaku pengguna aplikasi\n",
    "dating berdasarkan gender. Analisis berfokus pada:\n",
    "\n",
    "1. Perbedaan **Swipe Right Ratio** antar **Gender**.\n",
    "2. Jumlah **Likes Received** berdasarkan **Gender**.\n",
    "3. Hubungan antara **App Usage Time(minutes)** dengan **Likes Receive**.\n",
    "4. Persebaran **Sexual Orientation** berdasar **Gender** dan analisa Chi square untuk melihat korelasinya.\n",
    "\n",
    "Dataset berasal dari database `DatingSQL` dengan total ~50 ribu baris data.\n"
   ]
  },
  {
   "cell_type": "markdown",
   "id": "e961a653",
   "metadata": {},
   "source": [
    "**Import dan Load Data**"
   ]
  },
  {
   "cell_type": "markdown",
   "id": "4db7d947",
   "metadata": {},
   "source": [
    "\n",
    "Pada bagian ini akan digunakan untuk mengimpor semua library dan juga memberikan ringkasan statistik tahap awal."
   ]
  },
  {
   "cell_type": "code",
   "execution_count": 8,
   "id": "ee16e0d2",
   "metadata": {},
   "outputs": [
    {
     "name": "stderr",
     "output_type": "stream",
     "text": [
      "c:\\Users\\user\\Downloads\\DataRole\\DSPy\\utils\\db_connection.py:22: UserWarning: pandas only supports SQLAlchemy connectable (engine/connection) or database string URI or sqlite3 DBAPI2 connection. Other DBAPI2 objects are not tested. Please consider using SQLAlchemy.\n",
      "  df = pd.read_sql_query(query, conn)\n"
     ]
    },
    {
     "data": {
      "text/html": [
       "<div>\n",
       "<style scoped>\n",
       "    .dataframe tbody tr th:only-of-type {\n",
       "        vertical-align: middle;\n",
       "    }\n",
       "\n",
       "    .dataframe tbody tr th {\n",
       "        vertical-align: top;\n",
       "    }\n",
       "\n",
       "    .dataframe thead th {\n",
       "        text-align: right;\n",
       "    }\n",
       "</style>\n",
       "<table border=\"1\" class=\"dataframe\">\n",
       "  <thead>\n",
       "    <tr style=\"text-align: right;\">\n",
       "      <th></th>\n",
       "      <th>swipe_right_ratio</th>\n",
       "      <th>likes_received</th>\n",
       "      <th>app_usage_time_min</th>\n",
       "    </tr>\n",
       "  </thead>\n",
       "  <tbody>\n",
       "    <tr>\n",
       "      <th>count</th>\n",
       "      <td>50000.000000</td>\n",
       "      <td>50000.000000</td>\n",
       "      <td>50000.000000</td>\n",
       "    </tr>\n",
       "    <tr>\n",
       "      <th>mean</th>\n",
       "      <td>0.500655</td>\n",
       "      <td>99.526040</td>\n",
       "      <td>149.912400</td>\n",
       "    </tr>\n",
       "    <tr>\n",
       "      <th>std</th>\n",
       "      <td>0.197468</td>\n",
       "      <td>57.996799</td>\n",
       "      <td>86.990521</td>\n",
       "    </tr>\n",
       "    <tr>\n",
       "      <th>min</th>\n",
       "      <td>0.000000</td>\n",
       "      <td>0.000000</td>\n",
       "      <td>0.000000</td>\n",
       "    </tr>\n",
       "    <tr>\n",
       "      <th>25%</th>\n",
       "      <td>0.370000</td>\n",
       "      <td>49.000000</td>\n",
       "      <td>74.000000</td>\n",
       "    </tr>\n",
       "    <tr>\n",
       "      <th>50%</th>\n",
       "      <td>0.500000</td>\n",
       "      <td>100.000000</td>\n",
       "      <td>150.000000</td>\n",
       "    </tr>\n",
       "    <tr>\n",
       "      <th>75%</th>\n",
       "      <td>0.640000</td>\n",
       "      <td>150.000000</td>\n",
       "      <td>225.000000</td>\n",
       "    </tr>\n",
       "    <tr>\n",
       "      <th>max</th>\n",
       "      <td>1.000000</td>\n",
       "      <td>200.000000</td>\n",
       "      <td>300.000000</td>\n",
       "    </tr>\n",
       "  </tbody>\n",
       "</table>\n",
       "</div>"
      ],
      "text/plain": [
       "       swipe_right_ratio  likes_received  app_usage_time_min\n",
       "count       50000.000000    50000.000000        50000.000000\n",
       "mean            0.500655       99.526040          149.912400\n",
       "std             0.197468       57.996799           86.990521\n",
       "min             0.000000        0.000000            0.000000\n",
       "25%             0.370000       49.000000           74.000000\n",
       "50%             0.500000      100.000000          150.000000\n",
       "75%             0.640000      150.000000          225.000000\n",
       "max             1.000000      200.000000          300.000000"
      ]
     },
     "execution_count": 8,
     "metadata": {},
     "output_type": "execute_result"
    }
   ],
   "source": [
    "import pandas as pd\n",
    "import matplotlib.pyplot as plt\n",
    "import seaborn as sns\n",
    "from scipy.stats import f_oneway\n",
    "\n",
    "# Import fungsi dari utils & script EDA\n",
    "import sys, os\n",
    "sys.path.append(os.path.abspath(os.path.join(os.getcwd(), '..')))\n",
    "\n",
    "from utils.db_connection import load_columns\n",
    "from utils.cleaning import clean_numeric\n",
    "\n",
    "# Load data\n",
    "df_swipe = load_columns(['gender', 'swipe_right_ratio', 'likes_received', 'app_usage_time_min','sexual_orientation'])\n",
    "df_swipe.describe()"
   ]
  },
  {
   "cell_type": "markdown",
   "id": "a76a1a7a",
   "metadata": {},
   "source": [
    "## 1. Perbandingan Swipe Right Ratio antar Gender\n",
    "\n",
    "Pertanyaan: Apakah terdapat perbedaan rata-rata swipe right ratio antar gender?\n"
   ]
  },
  {
   "cell_type": "code",
   "execution_count": 9,
   "id": "29615e52",
   "metadata": {},
   "outputs": [
    {
     "ename": "NameError",
     "evalue": "name 'df' is not defined",
     "output_type": "error",
     "traceback": [
      "\u001b[31m---------------------------------------------------------------------------\u001b[39m",
      "\u001b[31mNameError\u001b[39m                                 Traceback (most recent call last)",
      "\u001b[36mCell\u001b[39m\u001b[36m \u001b[39m\u001b[32mIn[9]\u001b[39m\u001b[32m, line 2\u001b[39m\n\u001b[32m      1\u001b[39m \u001b[38;5;66;03m# Bersihkan data\u001b[39;00m\n\u001b[32m----> \u001b[39m\u001b[32m2\u001b[39m df_swipe = clean_numeric(\u001b[43mdf\u001b[49m.dropna(subset=[\u001b[33m'\u001b[39m\u001b[33mgender\u001b[39m\u001b[33m'\u001b[39m]), \u001b[33m'\u001b[39m\u001b[33mswipe_right_ratio\u001b[39m\u001b[33m'\u001b[39m)\n\u001b[32m      4\u001b[39m \u001b[38;5;66;03m# Hitung mean\u001b[39;00m\n\u001b[32m      5\u001b[39m mean_swipe = df_swipe.groupby(\u001b[33m'\u001b[39m\u001b[33mgender\u001b[39m\u001b[33m'\u001b[39m)[\u001b[33m'\u001b[39m\u001b[33mswipe_right_ratio\u001b[39m\u001b[33m'\u001b[39m].mean().sort_values(ascending=\u001b[38;5;28;01mFalse\u001b[39;00m)\n",
      "\u001b[31mNameError\u001b[39m: name 'df' is not defined"
     ]
    }
   ],
   "source": [
    "# Bersihkan data\n",
    "df_swipe = clean_numeric(df.dropna(subset=['gender']), 'swipe_right_ratio')\n",
    "\n",
    "# Hitung mean\n",
    "mean_swipe = df_swipe.groupby('gender')['swipe_right_ratio'].mean().sort_values(ascending=False)\n",
    "print(\"Mean Swipe Right Ratio berdasarkan Gender:\")\n",
    "print(mean_swipe)\n",
    "\n",
    "# Uji ANOVA\n",
    "groups = [g['swipe_right_ratio'] for _, g in df_swipe.groupby('gender')]\n",
    "stat, p = f_oneway(*groups)\n",
    "print(f\"\\nANOVA Result → F: {stat:.3f}, p-value: {p:.5f}\")\n",
    "\n",
    "# Visualisasi\n",
    "plt.figure(figsize=(8, 5))\n",
    "sns.boxplot(data=df_swipe, x='gender', y='swipe_right_ratio', hue='gender', palette='Set2', legend=False)\n",
    "plt.title('Distribusi Swipe Right Ratio Berdasarkan Gender')\n",
    "plt.xticks(rotation=15)\n",
    "plt.tight_layout()\n",
    "plt.show()\n"
   ]
  },
  {
   "cell_type": "markdown",
   "id": "3bfdfc28",
   "metadata": {},
   "source": [
    "**Insight**  \n",
    "- Rata-rata swipe right ratio terbagi secara merata pada setiap gendernya \n",
    "- ANOVA analisis menunjukkan tidak terdapat perbedaan signifikan yang dihasilkan oleh antar gender\n",
    "\n",
    "➡ Menunjukkan adanya variasi perilaku swipe right berdasarkan gender.\n"
   ]
  }
 ],
 "metadata": {
  "kernelspec": {
   "display_name": "Python 3",
   "language": "python",
   "name": "python3"
  },
  "language_info": {
   "codemirror_mode": {
    "name": "ipython",
    "version": 3
   },
   "file_extension": ".py",
   "mimetype": "text/x-python",
   "name": "python",
   "nbconvert_exporter": "python",
   "pygments_lexer": "ipython3",
   "version": "3.11.6"
  }
 },
 "nbformat": 4,
 "nbformat_minor": 5
}
