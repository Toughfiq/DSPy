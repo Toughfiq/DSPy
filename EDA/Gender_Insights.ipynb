{
 "cells": [
  {
   "cell_type": "markdown",
   "id": "f700a763",
   "metadata": {},
   "source": [
    "**Gender Behaviour Analysis**"
   ]
  },
  {
   "cell_type": "markdown",
   "id": "5e238a8e",
   "metadata": {},
   "source": [
    "# Analisis Perilaku Pengguna: Gender, Swipe Right Ratio, dan Likes\n",
    "\n",
    "Notebook ini merangkum hasil analisis eksplorasi data terkait perilaku pengguna aplikasi\n",
    "dating berdasarkan gender. Analisis berfokus pada:\n",
    "\n",
    "1. Perbedaan **swipe right ratio** antar gender.\n",
    "2. Jumlah **likes received** berdasarkan gender.\n",
    "3. Hubungan antara **waktu penggunaan aplikasi (minutes)** dengan jumlah likes.\n",
    "\n",
    "Dataset berasal dari database `DatingSQL` dengan total ~50 ribu baris data.\n"
   ]
  },
  {
   "cell_type": "markdown",
   "id": "e961a653",
   "metadata": {},
   "source": [
    "Import dan Load Data"
   ]
  },
  {
   "cell_type": "code",
   "execution_count": 2,
   "id": "ee16e0d2",
   "metadata": {},
   "outputs": [
    {
     "name": "stderr",
     "output_type": "stream",
     "text": [
      "c:\\Users\\user\\Downloads\\DataRole\\DSPy\\utils\\db_connection.py:22: UserWarning: pandas only supports SQLAlchemy connectable (engine/connection) or database string URI or sqlite3 DBAPI2 connection. Other DBAPI2 objects are not tested. Please consider using SQLAlchemy.\n",
      "  df = pd.read_sql_query(query, conn)\n"
     ]
    },
    {
     "data": {
      "text/html": [
       "<div>\n",
       "<style scoped>\n",
       "    .dataframe tbody tr th:only-of-type {\n",
       "        vertical-align: middle;\n",
       "    }\n",
       "\n",
       "    .dataframe tbody tr th {\n",
       "        vertical-align: top;\n",
       "    }\n",
       "\n",
       "    .dataframe thead th {\n",
       "        text-align: right;\n",
       "    }\n",
       "</style>\n",
       "<table border=\"1\" class=\"dataframe\">\n",
       "  <thead>\n",
       "    <tr style=\"text-align: right;\">\n",
       "      <th></th>\n",
       "      <th>gender</th>\n",
       "      <th>swipe_right_ratio</th>\n",
       "      <th>likes_received</th>\n",
       "      <th>app_usage_time_min</th>\n",
       "    </tr>\n",
       "  </thead>\n",
       "  <tbody>\n",
       "    <tr>\n",
       "      <th>0</th>\n",
       "      <td>Prefer Not to Say</td>\n",
       "      <td>0.60</td>\n",
       "      <td>173</td>\n",
       "      <td>52</td>\n",
       "    </tr>\n",
       "    <tr>\n",
       "      <th>1</th>\n",
       "      <td>Male</td>\n",
       "      <td>0.56</td>\n",
       "      <td>107</td>\n",
       "      <td>279</td>\n",
       "    </tr>\n",
       "    <tr>\n",
       "      <th>2</th>\n",
       "      <td>Non-binary</td>\n",
       "      <td>0.41</td>\n",
       "      <td>91</td>\n",
       "      <td>49</td>\n",
       "    </tr>\n",
       "    <tr>\n",
       "      <th>3</th>\n",
       "      <td>Genderfluid</td>\n",
       "      <td>0.32</td>\n",
       "      <td>147</td>\n",
       "      <td>185</td>\n",
       "    </tr>\n",
       "    <tr>\n",
       "      <th>4</th>\n",
       "      <td>Male</td>\n",
       "      <td>0.32</td>\n",
       "      <td>94</td>\n",
       "      <td>83</td>\n",
       "    </tr>\n",
       "  </tbody>\n",
       "</table>\n",
       "</div>"
      ],
      "text/plain": [
       "              gender  swipe_right_ratio  likes_received  app_usage_time_min\n",
       "0  Prefer Not to Say               0.60             173                  52\n",
       "1               Male               0.56             107                 279\n",
       "2         Non-binary               0.41              91                  49\n",
       "3        Genderfluid               0.32             147                 185\n",
       "4               Male               0.32              94                  83"
      ]
     },
     "execution_count": 2,
     "metadata": {},
     "output_type": "execute_result"
    }
   ],
   "source": [
    "import pandas as pd\n",
    "import matplotlib.pyplot as plt\n",
    "import seaborn as sns\n",
    "from scipy.stats import f_oneway\n",
    "\n",
    "# Import fungsi dari utils & script EDA\n",
    "import sys, os\n",
    "sys.path.append(os.path.abspath(os.path.join(os.getcwd(), '..')))\n",
    "\n",
    "from utils.db_connection import load_columns\n",
    "from utils.cleaning import clean_numeric\n",
    "\n",
    "# Load data\n",
    "df = load_columns(['gender', 'swipe_right_ratio', 'likes_received', 'app_usage_time_min'])\n",
    "df.head()\n"
   ]
  },
  {
   "cell_type": "markdown",
   "id": "a76a1a7a",
   "metadata": {},
   "source": [
    "## 1. Perbandingan Swipe Right Ratio antar Gender\n",
    "\n",
    "Pertanyaan: Apakah terdapat perbedaan rata-rata swipe right ratio antar gender?\n"
   ]
  },
  {
   "cell_type": "code",
   "execution_count": 3,
   "id": "29615e52",
   "metadata": {},
   "outputs": [
    {
     "name": "stdout",
     "output_type": "stream",
     "text": [
      "gender\n",
      "Prefer Not to Say    0.502848\n",
      "Male                 0.501234\n",
      "Female               0.500460\n",
      "Transgender          0.500140\n",
      "Genderfluid          0.499910\n",
      "Non-binary           0.499350\n",
      "Name: swipe_right_ratio, dtype: float64\n",
      "\n",
      "ANOVA Result → F: 0.330, p-value: 0.89539\n"
     ]
    },
    {
     "name": "stderr",
     "output_type": "stream",
     "text": [
      "C:\\Users\\user\\AppData\\Local\\Temp\\ipykernel_16700\\3136695370.py:15: FutureWarning: \n",
      "\n",
      "Passing `palette` without assigning `hue` is deprecated and will be removed in v0.14.0. Assign the `x` variable to `hue` and set `legend=False` for the same effect.\n",
      "\n",
      "  sns.boxplot(data=df_swipe, x='gender', y='swipe_right_ratio', palette='Set2')\n"
     ]
    },
    {
     "data": {
      "image/png": "[encoded data removed]",
      "text/plain": [
       "<Figure size 800x500 with 1 Axes>"
      ]
     },
     "metadata": {},
     "output_type": "display_data"
    }
   ],
   "source": [
    "# Bersihkan data\n",
    "df_swipe = clean_numeric(df.dropna(subset=['gender']), 'swipe_right_ratio')\n",
    "\n",
    "# Hitung mean\n",
    "mean_swipe = df_swipe.groupby('gender')['swipe_right_ratio'].mean().sort_values(ascending=False)\n",
    "print(mean_swipe)\n",
    "\n",
    "# Uji ANOVA\n",
    "groups = [g['swipe_right_ratio'] for _, g in df_swipe.groupby('gender')]\n",
    "stat, p = f_oneway(*groups)\n",
    "print(f\"\\nANOVA Result → F: {stat:.3f}, p-value: {p:.5f}\")\n",
    "\n",
    "# Visualisasi\n",
    "plt.figure(figsize=(8, 5))\n",
    "sns.boxplot(data=df_swipe, x='gender', y='swipe_right_ratio', palette='Set2')\n",
    "plt.title('Distribusi Swipe Right Ratio Berdasarkan Gender')\n",
    "plt.xticks(rotation=15)\n",
    "plt.tight_layout()\n",
    "plt.show()\n"
   ]
  },
  {
   "cell_type": "markdown",
   "id": "3bfdfc28",
   "metadata": {},
   "source": [
    "**Insight**  \n",
    "- Rata-rata swipe right ratio berbeda antar gender.  \n",
    "- Hasil ANOVA menunjukkan (isi: signifikan / tidak signifikan, tergantung output).  \n",
    "- Gender dengan nilai tertinggi: ...  \n",
    "\n",
    "➡ Menunjukkan adanya variasi perilaku swipe right berdasarkan gender.\n"
   ]
  }
 ],
 "metadata": {
  "kernelspec": {
   "display_name": "Python 3",
   "language": "python",
   "name": "python3"
  },
  "language_info": {
   "codemirror_mode": {
    "name": "ipython",
    "version": 3
   },
   "file_extension": ".py",
   "mimetype": "text/x-python",
   "name": "python",
   "nbconvert_exporter": "python",
   "pygments_lexer": "ipython3",
   "version": "3.11.6"
  }
 },
 "nbformat": 4,
 "nbformat_minor": 5
}
